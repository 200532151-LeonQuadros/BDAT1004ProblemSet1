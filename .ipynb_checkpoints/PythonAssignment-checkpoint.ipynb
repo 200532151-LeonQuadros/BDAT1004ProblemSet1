{
 "cells": [
  {
   "cell_type": "code",
   "execution_count": 46,
   "id": "e1f27a56",
   "metadata": {},
   "outputs": [
    {
     "name": "stdout",
     "output_type": "stream",
     "text": [
      "Please enter word to convert to pig-Latin: test\n"
     ]
    },
    {
     "data": {
      "text/plain": [
       "'esttay'"
      ]
     },
     "execution_count": 46,
     "metadata": {},
     "output_type": "execute_result"
    }
   ],
   "source": [
    "# Question 6\n",
    "\n",
    "randomWord = input(\"Please enter word to convert to pig-Latin: \")\n",
    "\n",
    "def pig(randomWord):\n",
    "    if randomWord[0] not in ('a','e','i','o','u'):\n",
    "        return randomWord[1:] + randomWord[0] + \"ay\"\n",
    "    else:\n",
    "        return randomWord + \"way\"\n",
    "\n",
    "pig(randomWord.lower())"
   ]
  },
  {
   "cell_type": "code",
   "execution_count": 45,
   "id": "6f4eb2ff",
   "metadata": {
    "scrolled": true
   },
   "outputs": [
    {
     "name": "stdout",
     "output_type": "stream",
     "text": [
      "Please enter file name: bloodtype1.txt\n",
      "There are 15 patients of blood type A\n",
      "There is one patient of blood type B\n",
      "There are 13 patients of blood type AB\n",
      "There are 15 patients of blood type O\n",
      "There are no patients of blood type OO\n"
     ]
    }
   ],
   "source": [
    "# Question 7\n",
    "\n",
    "name = input(\"Please enter file name: \")    \n",
    "    \n",
    "def bldcount(filename): \n",
    "    \n",
    "    with open(\"C:/Users/leonq/OneDrive - Georgian College/1. BDAT/4. Data Programming/Problem Set 1/Data Sets/\" + name,\"r\") as f: \n",
    "        a_count, b_count, ab_count, o_count, oo_count = 0, 0, 0, 0, 0 \n",
    "        \n",
    "        for line in f: \n",
    "            words = line.strip().upper().split(' ')\n",
    "            a_count = words.count(\"A\")\n",
    "            b_count = words.count(\"B\")\n",
    "            ab_count = words.count(\"AB\")\n",
    "            o_count = words.count(\"O\")\n",
    "            oo_count = words.count(\"OO\")\n",
    "            \n",
    "        bloodTypes = [\"A\",\"B\",\"AB\",\"O\",\"OO\"]\n",
    "            \n",
    "        for j in (a_count,b_count,ab_count,o_count,oo_count):   \n",
    "            for i in bloodTypes:\n",
    "                if j > 1:\n",
    "                    print(f\"There are {j} patients of blood type \"+ i)\n",
    "                elif j == 1:\n",
    "                    print(f\"There is one patient of blood type \"+ i)\n",
    "                    \n",
    "                else:\n",
    "                    print(\"There are no patients of blood type \" + i)\n",
    "                \n",
    "                bloodTypes.pop(0)\n",
    "                break\n",
    "        \n",
    "               \n",
    "bldcount(name)   \n"
   ]
  },
  {
   "cell_type": "code",
   "execution_count": 1,
   "id": "79540168",
   "metadata": {
    "scrolled": true
   },
   "outputs": [
    {
     "name": "stdout",
     "output_type": "stream",
     "text": [
      "Please enter 3 letter currency and amount to convert separated by space: inr 1000\n",
      "17.7643\n"
     ]
    }
   ],
   "source": [
    "# Question 8\n",
    "\n",
    "import pandas as pd\n",
    "\n",
    "df = pd.read_csv(\"C:/Users/leonq/OneDrive - Georgian College/1. BDAT/4. Data Programming/Problem Set 1/Data Sets/currencies.txt\",header=None,sep=\"\\t\")\n",
    "\n",
    "curr,amt = input(\"Please enter 3 letter currency and amount to convert separated by space: \").split()\n",
    "\n",
    "def curconv(curr,amt):\n",
    "    \n",
    "    valueToDivideBy = df.loc[df[0]==curr.upper()][1].values[0]\n",
    "    convertedValue = float(amt)*valueToDivideBy\n",
    "    \n",
    "    print(convertedValue)\n",
    "\n",
    "curconv(curr,amt)\n",
    "\n",
    "\n",
    "\n",
    "    \n",
    "\n",
    "    "
   ]
  },
  {
   "cell_type": "code",
   "execution_count": 2,
   "id": "dfaf9aa6",
   "metadata": {},
   "outputs": [
    {
     "ename": "SyntaxError",
     "evalue": "invalid character '‘' (U+2018) (3918523838.py, line 3)",
     "output_type": "error",
     "traceback": [
      "\u001b[1;36m  Input \u001b[1;32mIn [2]\u001b[1;36m\u001b[0m\n\u001b[1;33m    6 + ‘a’\u001b[0m\n\u001b[1;37m        ^\u001b[0m\n\u001b[1;31mSyntaxError\u001b[0m\u001b[1;31m:\u001b[0m invalid character '‘' (U+2018)\n"
     ]
    }
   ],
   "source": [
    "# Question 9.1\n",
    "\n",
    "6 + ‘a’"
   ]
  },
  {
   "cell_type": "code",
   "execution_count": 3,
   "id": "73ec49db",
   "metadata": {},
   "outputs": [
    {
     "ename": "ValueError",
     "evalue": "math domain error",
     "output_type": "error",
     "traceback": [
      "\u001b[1;31m---------------------------------------------------------------------------\u001b[0m",
      "\u001b[1;31mValueError\u001b[0m                                Traceback (most recent call last)",
      "Input \u001b[1;32mIn [3]\u001b[0m, in \u001b[0;36m<cell line: 4>\u001b[1;34m()\u001b[0m\n\u001b[0;32m      1\u001b[0m \u001b[38;5;66;03m# Question 9.2\u001b[39;00m\n\u001b[0;32m      3\u001b[0m \u001b[38;5;28;01mimport\u001b[39;00m \u001b[38;5;21;01mmath\u001b[39;00m\n\u001b[1;32m----> 4\u001b[0m \u001b[43mmath\u001b[49m\u001b[38;5;241;43m.\u001b[39;49m\u001b[43msqrt\u001b[49m\u001b[43m(\u001b[49m\u001b[38;5;241;43m-\u001b[39;49m\u001b[38;5;241;43m1.0\u001b[39;49m\u001b[43m)\u001b[49m\n",
      "\u001b[1;31mValueError\u001b[0m: math domain error"
     ]
    }
   ],
   "source": [
    "# Question 9.2\n",
    "\n",
    "items = [1,2,3,4,5,6,7,8,9,0]\n",
    "print(items [12])"
   ]
  },
  {
   "cell_type": "code",
   "execution_count": 4,
   "id": "3ebf568a",
   "metadata": {},
   "outputs": [
    {
     "ename": "NameError",
     "evalue": "name 'x' is not defined",
     "output_type": "error",
     "traceback": [
      "\u001b[1;31m---------------------------------------------------------------------------\u001b[0m",
      "\u001b[1;31mNameError\u001b[0m                                 Traceback (most recent call last)",
      "Input \u001b[1;32mIn [4]\u001b[0m, in \u001b[0;36m<cell line: 3>\u001b[1;34m()\u001b[0m\n\u001b[0;32m      1\u001b[0m \u001b[38;5;66;03m# Question 9.3\u001b[39;00m\n\u001b[1;32m----> 3\u001b[0m \u001b[38;5;28mprint\u001b[39m(\u001b[43mx\u001b[49m)\n",
      "\u001b[1;31mNameError\u001b[0m: name 'x' is not defined"
     ]
    }
   ],
   "source": [
    "# Question 9.3\n",
    "\n",
    "import math\n",
    "math.sqrt(-1.0)"
   ]
  },
  {
   "cell_type": "code",
   "execution_count": 5,
   "id": "5d185c6a",
   "metadata": {},
   "outputs": [
    {
     "ename": "NameError",
     "evalue": "name 'x' is not defined",
     "output_type": "error",
     "traceback": [
      "\u001b[1;31m---------------------------------------------------------------------------\u001b[0m",
      "\u001b[1;31mNameError\u001b[0m                                 Traceback (most recent call last)",
      "Input \u001b[1;32mIn [5]\u001b[0m, in \u001b[0;36m<cell line: 3>\u001b[1;34m()\u001b[0m\n\u001b[0;32m      1\u001b[0m \u001b[38;5;66;03m# Question 9.4\u001b[39;00m\n\u001b[1;32m----> 3\u001b[0m \u001b[38;5;28mprint\u001b[39m(\u001b[43mx\u001b[49m)\n",
      "\u001b[1;31mNameError\u001b[0m: name 'x' is not defined"
     ]
    }
   ],
   "source": [
    "# Question 9.4\n",
    "\n",
    "print(x)"
   ]
  },
  {
   "cell_type": "code",
   "execution_count": 8,
   "id": "2c6ef20f",
   "metadata": {},
   "outputs": [
    {
     "ename": "FileNotFoundError",
     "evalue": "[Errno 2] No such file or directory: 'C:/Users/test'",
     "output_type": "error",
     "traceback": [
      "\u001b[1;31m---------------------------------------------------------------------------\u001b[0m",
      "\u001b[1;31mFileNotFoundError\u001b[0m                         Traceback (most recent call last)",
      "Input \u001b[1;32mIn [8]\u001b[0m, in \u001b[0;36m<cell line: 3>\u001b[1;34m()\u001b[0m\n\u001b[0;32m      1\u001b[0m \u001b[38;5;66;03m# Question 9.5\u001b[39;00m\n\u001b[1;32m----> 3\u001b[0m assignment \u001b[38;5;241m=\u001b[39m \u001b[38;5;28;43mopen\u001b[39;49m\u001b[43m(\u001b[49m\u001b[38;5;124;43m\"\u001b[39;49m\u001b[38;5;124;43mC:/Users/test\u001b[39;49m\u001b[38;5;124;43m\"\u001b[39;49m\u001b[43m,\u001b[49m\u001b[43m \u001b[49m\u001b[38;5;124;43m\"\u001b[39;49m\u001b[38;5;124;43mr\u001b[39;49m\u001b[38;5;124;43m\"\u001b[39;49m\u001b[43m)\u001b[49m\n\u001b[0;32m      4\u001b[0m \u001b[38;5;28mprint\u001b[39m(assignment\u001b[38;5;241m.\u001b[39mread())\n",
      "\u001b[1;31mFileNotFoundError\u001b[0m: [Errno 2] No such file or directory: 'C:/Users/test'"
     ]
    }
   ],
   "source": [
    "# Question 9.5\n",
    "\n",
    "assignment = open(\"C:/Users/test\", \"r\")\n",
    "print(assignment.read())\n"
   ]
  },
  {
   "cell_type": "code",
   "execution_count": 231,
   "id": "2cfbc68a",
   "metadata": {},
   "outputs": [
    {
     "name": "stdout",
     "output_type": "stream",
     "text": [
      "Please enter string to count frequencies: 'The quick red fox got bored and went home.'\n",
      "['1', '1', '1', '3', '5', '1', '1', '2', '1', '0', '1', '0', '1', '2', '4', '0', '1', '2', '0', '2', '1', '0', '1', '1', '0', '0']\n"
     ]
    }
   ],
   "source": [
    "# Question 10\n",
    "\n",
    "userInput = input(\"Please enter string to count frequencies: \")\n",
    "def frequencies():\n",
    "    letters = \"abcdefghijklmnopqrstuvwxyz\"\n",
    "    finalList = []\n",
    "    for i in letters:\n",
    "        finalList.append(str(userInput.count(i)))\n",
    "            \n",
    "        letters = letters[1:]\n",
    "    print(finalList)      \n",
    "        \n",
    "frequencies()\n",
    "\n",
    "\n",
    "\n",
    "\n"
   ]
  }
 ],
 "metadata": {
  "kernelspec": {
   "display_name": "Python 3 (ipykernel)",
   "language": "python",
   "name": "python3"
  },
  "language_info": {
   "codemirror_mode": {
    "name": "ipython",
    "version": 3
   },
   "file_extension": ".py",
   "mimetype": "text/x-python",
   "name": "python",
   "nbconvert_exporter": "python",
   "pygments_lexer": "ipython3",
   "version": "3.9.12"
  }
 },
 "nbformat": 4,
 "nbformat_minor": 5
}
