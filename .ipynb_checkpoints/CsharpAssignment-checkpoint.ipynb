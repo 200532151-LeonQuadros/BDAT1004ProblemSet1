{
 "cells": [
  {
   "cell_type": "code",
   "execution_count": 246,
   "id": "00584f47",
   "metadata": {},
   "outputs": [
    {
     "ename": "Unhandled Exception",
     "evalue": "(1,12): error CS1002: ; expected\r\n(2,13): error CS1002: ; expected\r\n(3,13): error CS1002: ; expected\r\n(4,11): error CS1002: ; expected\r\n(5,16): error CS1002: ; expected\r\n(6,18): error CS1002: ; expected\r\n(7,20): error CS1002: ; expected\r\n(8,15): error CS1002: ; expected\r\n(9,16): error CS1002: ; expected\r\n(10,3): error CS1002: ; expected\r\n(10,3): error CS1513: } expected\r\n(10,6): error CS1002: ; expected\r\n(10,6): error CS1513: } expected\r\n(10,9): error CS1002: ; expected\r\n(10,18): error CS1002: ; expected\r\n(11,10): error CS1525: Invalid expression term 'bool'\r\n(11,14): error CS1002: ; expected\r\n(12,9): error CS1003: Syntax error, ',' expected",
     "output_type": "error",
     "traceback": [
      "(1,12): error CS1002: ; expected\r\n(2,13): error CS1002: ; expected\r\n(3,13): error CS1002: ; expected\r\n(4,11): error CS1002: ; expected\r\n(5,16): error CS1002: ; expected\r\n(6,18): error CS1002: ; expected\r\n(7,20): error CS1002: ; expected\r\n(8,15): error CS1002: ; expected\r\n(9,16): error CS1002: ; expected\r\n(10,3): error CS1002: ; expected\r\n(10,3): error CS1513: } expected\r\n(10,6): error CS1002: ; expected\r\n(10,6): error CS1513: } expected\r\n(10,9): error CS1002: ; expected\r\n(10,18): error CS1002: ; expected\r\n(11,10): error CS1525: Invalid expression term 'bool'\r\n(11,14): error CS1002: ; expected\r\n(12,9): error CS1003: Syntax error, ',' expected"
     ]
    }
   ],
   "source": [
    "// Question 1\n",
    "\n",
    "5 - integer\n",
    "5.0 - double\n",
    "5 > 1 - bool (Boolean)\n",
    "'5' - char\n",
    "5 * 2 - integer\n",
    "'5' * 2 - integer\n",
    "'5' + '2' - integer\n",
    "5 / 2 - double\n",
    "5 % 2 - integer\n",
    "{5, 2, 1} - array\n",
    "5 == 3 - bool (Boolean)\n",
    "Pi (the number) - double\n",
    "\n"
   ]
  },
  {
   "cell_type": "code",
   "execution_count": 10,
   "id": "0a800896",
   "metadata": {},
   "outputs": [
    {
     "name": "stdout",
     "output_type": "stream",
     "text": [
      "34\n",
      "Yes\n",
      "Bababadalgharaghtakamminarronnkonn is the longest word\n",
      "Bartok\n",
      "Buxtehude\n"
     ]
    }
   ],
   "source": [
    "// Question 2\n",
    "\n",
    "// a\n",
    "\n",
    "string a = \"Supercalifragilisticexpialidocious\";\n",
    "Console.WriteLine(a.Length);\n",
    "\n",
    "// b\n",
    "\n",
    "if (a.Contains(\"ice\")==true)\n",
    "{\n",
    "Console.WriteLine(\"Yes\");\n",
    "}\n",
    "else\n",
    "{\n",
    "Console.WriteLine(\"No\");\n",
    "}\n",
    "\n",
    "// c\n",
    "\n",
    "string b=\"Honorificabilitudinitatibus\";\n",
    "string c=\"Bababadalgharaghtakamminarronnkonn\";\n",
    "\n",
    "if (a.Length>b.Length)\n",
    "{\n",
    "if(a.Length>c.Length)\n",
    "{\n",
    "Console.WriteLine($\"{a} is the longest word\");\n",
    "}\n",
    "else\n",
    "if (b.Length>c.Length)\n",
    "{\n",
    "Console.WriteLine($\"{b} is the longest word\");\n",
    "}\n",
    "else\n",
    "Console.WriteLine($\"{c} is the longest word\");\n",
    "}\n",
    "\n",
    "// d\n",
    "\n",
    "\n",
    "string[] composers={\"Berlioz\", \"Borodin\", \"Brian\",\n",
    "\"Bartok\", \"Bellini\", \"Buxtehude\", \"Bernstein\"};\n",
    "\n",
    "Array.Sort(composers);\n",
    "\n",
    "Console.WriteLine(composers.First());     // First in the dictionary\n",
    "Console.WriteLine(composers.Last());      // Last in the dictionary"
   ]
  },
  {
   "cell_type": "code",
   "execution_count": 3,
   "id": "ed9aff9b",
   "metadata": {},
   "outputs": [
    {
     "name": "stdout",
     "output_type": "stream",
     "text": [
      "Area of the given triangle is  1.7320508075688772\r\n"
     ]
    }
   ],
   "source": [
    "// Question 3\n",
    "\n",
    "class areaOfTriangle\n",
    "    {\n",
    "        public void area(double a, double b, double c)\n",
    "        {\n",
    "            double s,areaFormula;\n",
    "            s=(a+b+c)/2;\n",
    "          \n",
    "            areaFormula = Math.Sqrt(s * ( s - a) * (s - b) * (s - c)); \n",
    "            Console.WriteLine(\"Area of the given triangle is \" + areaFormula);\n",
    "        }\n",
    "    } \n",
    "    \n",
    "\n",
    "areaOfTriangle program = new areaOfTriangle();\n",
    "program.area(2,2,2);\n",
    "    "
   ]
  },
  {
   "cell_type": "code",
   "execution_count": 6,
   "id": "16f4d569",
   "metadata": {},
   "outputs": [
    {
     "name": "stdout",
     "output_type": "stream",
     "text": [
      "The odd numbers are: \n",
      "25\n",
      "47\n",
      "The even numbers are: \n",
      "42\n",
      "56\n",
      "32\n"
     ]
    }
   ],
   "source": [
    "// Question 4\n",
    "\n",
    "int[] arr = new int[5];\n",
    "arr[0]= 25;\n",
    "arr[1]= 47;\n",
    "arr[2]= 42;\n",
    "arr[3]= 56;\n",
    "arr[4]= 32;\n",
    "\n",
    "int i=0,j=0,k=0;\n",
    "\n",
    "\n",
    "int[] even = new int[5];\n",
    "int[] odd = new int[5];\n",
    "\n",
    "\n",
    "for(i=0;i<arr.Length;i++)\n",
    "{\n",
    "    \n",
    "if (arr[i]%2 == 0)\n",
    "    {\n",
    "   even[j] = arr[i];\n",
    "   j++;\n",
    "}\n",
    "else\n",
    "{\n",
    "   odd[k] = arr[i];\n",
    "   k++;\n",
    "}\n",
    "}\n",
    "        \n",
    "Console.WriteLine(\"The odd numbers are: \" );\n",
    "         \n",
    "\n",
    "//Printing out the odd and even arrays\n",
    "\n",
    "foreach(var num in odd)\n",
    "{\n",
    "    if(num!=0){\n",
    "    Console.WriteLine(num.ToString());}\n",
    "}\n",
    "\n",
    "Console.WriteLine(\"The even numbers are: \" );\n",
    "\n",
    "foreach(var num in even)\n",
    "{\n",
    "    if(num!=0){\n",
    "    Console.WriteLine(num.ToString());}\n",
    "}"
   ]
  },
  {
   "cell_type": "code",
   "execution_count": 9,
   "id": "03e4e32a",
   "metadata": {},
   "outputs": [
    {
     "name": "stdout",
     "output_type": "stream",
     "text": [
      "true\n",
      "false\n",
      "false\n",
      "true\n"
     ]
    }
   ],
   "source": [
    "// Question 5 a\n",
    "\n",
    "\n",
    "public class rectangleShape\n",
    "    {\n",
    "        public void inside(double x, double y, double x1, double y1, double x2, double y2)\n",
    "        {\n",
    "            if ((x>x1 && x<x2) && (y>y1 && y<y2))\n",
    "            {\n",
    "            \n",
    "            Console.WriteLine(\"true\");\n",
    "            }\n",
    "            else\n",
    "            {\n",
    "            \n",
    "            Console.WriteLine(\"false\");\n",
    "            }\n",
    "            \n",
    "       \n",
    "            \n",
    "        }\n",
    "    } \n",
    "    \n",
    "rectangleShape point = new rectangleShape();\n",
    "point.inside(1,1,0,0,2,3);\n",
    "point.inside(-1,-1,0,0,2,3);\n",
    "\n",
    "// Question 5 b\n",
    "\n",
    "point.inside(1,1,0.3,0.5,1.1,0.7);\n",
    "point.inside(1,1,0.5, 0.2,1.1,2);"
   ]
  },
  {
   "cell_type": "code",
   "execution_count": null,
   "id": "63d665c4",
   "metadata": {},
   "outputs": [],
   "source": []
  }
 ],
 "metadata": {
  "kernelspec": {
   "display_name": ".NET (C#)",
   "language": "C#",
   "name": ".net-csharp"
  },
  "language_info": {
   "file_extension": ".cs",
   "mimetype": "text/x-csharp",
   "name": "C#",
   "pygments_lexer": "csharp",
   "version": "8.0"
  }
 },
 "nbformat": 4,
 "nbformat_minor": 5
}
