{
 "cells": [
  {
   "cell_type": "code",
   "execution_count": 1,
   "id": "e1f27a56",
   "metadata": {},
   "outputs": [
    {
     "name": "stdout",
     "output_type": "stream",
     "text": [
      "Please enter word to convert to pig-Latin: test\n"
     ]
    },
    {
     "data": {
      "text/plain": [
       "'esttay'"
      ]
     },
     "execution_count": 1,
     "metadata": {},
     "output_type": "execute_result"
    }
   ],
   "source": [
    "# Question 6\n",
    "\n",
    "randomWord = input(\"Please enter word to convert to pig-Latin: \")\n",
    "\n",
    "def pig(randomWord):\n",
    "    if randomWord[0] not in ('a','e','i','o','u'):\n",
    "        return randomWord[1:] + randomWord[0] + \"ay\"\n",
    "    else:\n",
    "        return randomWord + \"way\"\n",
    "\n",
    "pig(randomWord.lower())"
   ]
  },
  {
   "cell_type": "code",
   "execution_count": 3,
   "id": "6f4eb2ff",
   "metadata": {
    "scrolled": true
   },
   "outputs": [
    {
     "name": "stdout",
     "output_type": "stream",
     "text": [
      "Please enter file name: bloodtype1.txt\n",
      "There are 15 patients of blood type A\n",
      "There is one patient of blood type B\n",
      "There are 13 patients of blood type AB\n",
      "There are 15 patients of blood type O\n",
      "There are no patients of blood type OO\n"
     ]
    }
   ],
   "source": [
    "# Question 7\n",
    "\n",
    "name = input(\"Please enter file name: \")    \n",
    "    \n",
    "def bldcount(filename): \n",
    "    \n",
    "    with open(\"C:/Users/leonq/OneDrive - Georgian College/1. BDAT/4. Data Programming/Problem Set 1/Data Sets/\" + name,\"r\") as f: \n",
    "        a_count, b_count, ab_count, o_count, oo_count = 0, 0, 0, 0, 0 \n",
    "        \n",
    "        for line in f: \n",
    "            words = line.strip().upper().split(' ')\n",
    "            a_count = words.count(\"A\")\n",
    "            b_count = words.count(\"B\")\n",
    "            ab_count = words.count(\"AB\")\n",
    "            o_count = words.count(\"O\")\n",
    "            oo_count = words.count(\"OO\")\n",
    "            \n",
    "        bloodTypes = [\"A\",\"B\",\"AB\",\"O\",\"OO\"]\n",
    "            \n",
    "        for j in (a_count,b_count,ab_count,o_count,oo_count):   \n",
    "            for i in bloodTypes:\n",
    "                if j > 1:\n",
    "                    print(f\"There are {j} patients of blood type \"+ i)\n",
    "                elif j == 1:\n",
    "                    print(f\"There is one patient of blood type \"+ i)\n",
    "                    \n",
    "                else:\n",
    "                    print(\"There are no patients of blood type \" + i)\n",
    "                \n",
    "                bloodTypes.pop(0)\n",
    "                break\n",
    "        \n",
    "               \n",
    "bldcount(name)   \n"
   ]
  },
  {
   "cell_type": "code",
   "execution_count": null,
   "id": "255849e7",
   "metadata": {},
   "outputs": [],
   "source": []
  },
  {
   "cell_type": "code",
   "execution_count": 5,
   "id": "2cfbc68a",
   "metadata": {},
   "outputs": [
    {
     "name": "stdout",
     "output_type": "stream",
     "text": [
      "Please enter string to count frequencies: abc\n",
      "['1', '1', '1', '0', '0', '0', '0', '0', '0', '0', '0', '0', '0', '0', '0', '0', '0', '0', '0', '0', '0', '0', '0', '0', '0', '0']\n"
     ]
    }
   ],
   "source": [
    "# Question 10\n",
    "\n",
    "userInput = input(\"Please enter string to count frequencies: \")\n",
    "def frequencies():\n",
    "    letters = \"abcdefghijklmnopqrstuvwxyz\"\n",
    "    finalList = []\n",
    "    for i in letters:\n",
    "        finalList.append(str(userInput.count(i)))\n",
    "            \n",
    "        letters = letters[1:]\n",
    "    print(finalList)      \n",
    "        \n",
    "frequencies()\n",
    "\n",
    "\n",
    "\n",
    "\n"
   ]
  }
 ],
 "metadata": {
  "kernelspec": {
   "display_name": "Python 3 (ipykernel)",
   "language": "python",
   "name": "python3"
  },
  "language_info": {
   "codemirror_mode": {
    "name": "ipython",
    "version": 3
   },
   "file_extension": ".py",
   "mimetype": "text/x-python",
   "name": "python",
   "nbconvert_exporter": "python",
   "pygments_lexer": "ipython3",
   "version": "3.9.12"
  }
 },
 "nbformat": 4,
 "nbformat_minor": 5
}
